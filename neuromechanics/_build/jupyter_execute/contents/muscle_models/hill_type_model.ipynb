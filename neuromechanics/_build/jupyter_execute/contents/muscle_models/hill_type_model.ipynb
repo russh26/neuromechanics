{
 "cells": [
  {
   "cell_type": "markdown",
   "metadata": {},
   "source": [
    "## Force-length Property\n",
    "\n",
    "Muscle contractile force is dependent on the static state of the muscle. One such as example is muscle length. Let's say we electrically stimulate a muscle and can do so in a way that is consistent at every stimulation. Let us also assume that the muscle does not fatigue. The force generated from that consistent stimulation will different depending on the length of the muscle at the time of stimulation, i.e. the force is a function of the muscles length:\n",
    "\n",
    "$$\n",
    "Force = f(Length_{CE})\n",
    "$$\n"
   ]
  }
 ],
 "metadata": {
  "kernelspec": {
   "display_name": "Python 3.9.12 ('base')",
   "language": "python",
   "name": "python3"
  },
  "language_info": {
   "codemirror_mode": {
    "name": "ipython",
    "version": 3
   },
   "file_extension": ".py",
   "mimetype": "text/x-python",
   "name": "python",
   "nbconvert_exporter": "python",
   "pygments_lexer": "ipython3",
   "version": "3.7.13"
  },
  "vscode": {
   "interpreter": {
    "hash": "d60d35868d77049482cf0f339676802add5545b8aaaf370e9989877a514e49c3"
   }
  }
 },
 "nbformat": 4,
 "nbformat_minor": 2
}